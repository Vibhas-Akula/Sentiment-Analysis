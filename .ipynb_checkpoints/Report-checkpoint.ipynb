version https://git-lfs.github.com/spec/v1
oid sha256:7c4981119ef0dc06edf68fed1d38efc1da1aa260f842225c0cd0e1ef19f846d0
size 5011469
